{
 "cells": [
  {
   "cell_type": "code",
   "execution_count": 6,
   "metadata": {},
   "outputs": [],
   "source": [
    "import pandas as pd\n",
    "import requests\n",
    "import os\n"
   ]
  },
  {
   "cell_type": "code",
   "execution_count": 7,
   "metadata": {},
   "outputs": [
    {
     "name": "stdout",
     "output_type": "stream",
     "text": [
      "{'error': 'You must be logged in to complete this action'}\n"
     ]
    }
   ],
   "source": [
    "\n",
    "url = \"https://www.space-track.org/basicspacedata/query/class/boxscore/orderby/COUNTRY asc/emptyresult/show\"\n",
    "    \n",
    "space_track = requests.get(url).json()\n",
    "#country = space_track['COUNTRY']\n",
    "#TBA = space_track['ORBITAL_TBA']\n",
    "#ORBITAL_PAYLOAD_COUNT = space_track['ORBITAL_PAYLOAD_COUNT']\n",
    "#ORBITAL_ROCKET_BODY_COUNT = space_track['ORBITAL_ROCKET_BODY_COUNT']\n",
    "#ORBITAL_DEBRIS_COUNT = space_track['ORBITAL_DEBRIS_COUNT']\n",
    "#ORBITAL_TOTAL_COUNT = space_track['ORBITAL_TOTAL_COUNT']\n",
    "#DECAYED_PAYLOAD_COUNT = space_track['DECAYED_PAYLOAD_COUNT']\n",
    "#DECAYED_ROCKET_BODY_COUNT = space_track['DECAYED_ROCKET_BODY_COUNT']\n",
    "#DECAYED_DEBRIS_COUNT = space_track['DECAYED_DEBRIS_COUNT']\n",
    "#DECAYED_TOTAL_COUNT = space_track['DECAYED_TOTAL_COUNT']\n",
    "#COUNTRY_TOTAL = space_track['COUNTRY_TOTAL']\n",
    "        \n",
    "print(space_track)     "
   ]
  },
  {
   "cell_type": "code",
   "execution_count": null,
   "metadata": {},
   "outputs": [],
   "source": []
  }
 ],
 "metadata": {
  "kernelspec": {
   "display_name": "Python 3",
   "language": "python",
   "name": "python3"
  },
  "language_info": {
   "codemirror_mode": {
    "name": "ipython",
    "version": 3
   },
   "file_extension": ".py",
   "mimetype": "text/x-python",
   "name": "python",
   "nbconvert_exporter": "python",
   "pygments_lexer": "ipython3",
   "version": "3.8.3"
  }
 },
 "nbformat": 4,
 "nbformat_minor": 4
}
