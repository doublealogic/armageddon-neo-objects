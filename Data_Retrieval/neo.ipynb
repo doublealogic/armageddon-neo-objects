{
 "cells": [
  {
   "cell_type": "code",
   "execution_count": 1,
   "metadata": {},
   "outputs": [],
   "source": [
    "# import dependencies\n",
    "import os\n",
    "import pandas as pd\n",
    "import matplotlib.pyplot as plt\n",
    "import numpy as np\n",
    "import requests\n"
   ]
  },
  {
   "cell_type": "code",
   "execution_count": 2,
   "metadata": {
    "scrolled": true
   },
   "outputs": [
    {
     "ename": "NameError",
     "evalue": "name 'closest_approach' is not defined",
     "output_type": "error",
     "traceback": [
      "\u001b[1;31m---------------------------------------------------------------------------\u001b[0m",
      "\u001b[1;31mNameError\u001b[0m                                 Traceback (most recent call last)",
      "\u001b[1;32m<ipython-input-2-919c9dbbcfc6>\u001b[0m in \u001b[0;36m<module>\u001b[1;34m\u001b[0m\n\u001b[0;32m     24\u001b[0m \u001b[1;33m\u001b[0m\u001b[0m\n\u001b[0;32m     25\u001b[0m \u001b[1;31m# add column for miles from Earth\u001b[0m\u001b[1;33m\u001b[0m\u001b[1;33m\u001b[0m\u001b[1;33m\u001b[0m\u001b[0m\n\u001b[1;32m---> 26\u001b[1;33m \u001b[0mneo_past_df\u001b[0m\u001b[1;33m[\u001b[0m\u001b[1;34m'Miles from Earth'\u001b[0m\u001b[1;33m]\u001b[0m \u001b[1;33m=\u001b[0m \u001b[0mclosest_approach\u001b[0m\u001b[1;33m\u001b[0m\u001b[1;33m\u001b[0m\u001b[0m\n\u001b[0m\u001b[0;32m     27\u001b[0m \u001b[1;33m\u001b[0m\u001b[0m\n\u001b[0;32m     28\u001b[0m \u001b[1;33m\u001b[0m\u001b[0m\n",
      "\u001b[1;31mNameError\u001b[0m: name 'closest_approach' is not defined"
     ]
    }
   ],
   "source": [
    "# read the CSV, create df w/ only the needed data columns\n",
    "\n",
    "neo_past_df = pd.read_csv(\n",
    "    \"../CSV_Input/NEO_1900-2020.csv\",\n",
    "    sep = ',',\n",
    "    header = 0, \n",
    "    usecols = [0, 1, 3, 7])\n",
    "\n",
    "# eliminate rows with NaN values\n",
    "\n",
    "neo_past_df = neo_past_df.dropna()\n",
    "\n",
    "#set Object as index\n",
    "\n",
    "neo_past_df.set_index('Object', inplace=True)\n",
    "\n",
    "# delimate the distance column to highlight lunar distance data\n",
    "\n",
    "neo_past_df[['Min. Dist. au','Min. Dist. LD']] = neo_past_df['CA Distance Minimum (LD | au)'].str.split('|',expand=True)\n",
    "\n",
    "# eliminate unecessary distance data\n",
    "neo_past_df = neo_past_df.drop(['CA Distance Minimum (LD | au)'], axis=1)\n",
    "neo_past_df = neo_past_df.drop(['Min. Dist. au'], axis=1)\n",
    "\n",
    "#convert LD to miles, rename the column \n",
    "\n",
    "\n",
    "\n",
    "# visualize the data\n",
    "neo_past_df"
   ]
  },
  {
   "cell_type": "code",
   "execution_count": null,
   "metadata": {},
   "outputs": [],
   "source": []
  },
  {
   "cell_type": "code",
   "execution_count": null,
   "metadata": {},
   "outputs": [],
   "source": []
  },
  {
   "cell_type": "code",
   "execution_count": null,
   "metadata": {},
   "outputs": [],
   "source": []
  }
 ],
 "metadata": {
  "kernelspec": {
   "display_name": "Python 3",
   "language": "python",
   "name": "python3"
  },
  "language_info": {
   "codemirror_mode": {
    "name": "ipython",
    "version": 3
   },
   "file_extension": ".py",
   "mimetype": "text/x-python",
   "name": "python",
   "nbconvert_exporter": "python",
   "pygments_lexer": "ipython3",
   "version": "3.8.3"
  }
 },
 "nbformat": 4,
 "nbformat_minor": 4
}
