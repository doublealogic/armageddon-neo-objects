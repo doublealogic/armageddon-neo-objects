{
 "cells": [
  {
   "cell_type": "code",
   "execution_count": 13,
   "metadata": {},
   "outputs": [],
   "source": [
    "import csv\n",
    "import os\n",
    "import pandas as pd"
   ]
  },
  {
   "cell_type": "code",
   "execution_count": 14,
   "metadata": {},
   "outputs": [
    {
     "output_type": "execute_result",
     "data": {
      "text/plain": [
       "       Object            Close-Approach (CA) Date  \\\n",
       "0   (2020 UQ)      2020-Oct-20 01:17Â Â±Â < 00:01   \n",
       "1   (2020 UC)  2020-Oct-20 01:56Â Â±Â Â Â Â 00:02   \n",
       "2  (2017 UH5)      2020-Oct-20 03:16Â Â±Â 6_12:30   \n",
       "3   (2020 UR)      2020-Oct-20 04:04Â Â±Â < 00:01   \n",
       "4   (2020 UB)      2020-Oct-20 05:16Â Â±Â < 00:01   \n",
       "\n",
       "  CA Distance Nominal (LD | au) CA Distance Minimum (LD | au)  \\\n",
       "0                5.10 | 0.01311                5.07 | 0.01304   \n",
       "1                3.71 | 0.00952                3.68 | 0.00946   \n",
       "2                8.89 | 0.02283                8.66 | 0.02226   \n",
       "3                3.52 | 0.00906                3.50 | 0.00900   \n",
       "4                1.88 | 0.00484                1.87 | 0.00481   \n",
       "\n",
       "   V relative (km/s)  V infinity (km/s)  H (mag) Estimated Diameter Unnamed: 8  \n",
       "0              15.69              15.68     26.8      11 m -   26 m   bK20U00Q  \n",
       "1               7.86               7.83     27.6     8.2 m -   18 m   bK20U00C  \n",
       "2               5.93               5.91     26.5      13 m -   30 m   bK17U05H  \n",
       "3              12.58              12.56     27.9     7.2 m -   16 m   bK20U00R  \n",
       "4              10.62              10.56     27.9     7.0 m -   16 m   bK20U00B  "
      ],
      "text/html": "<div>\n<style scoped>\n    .dataframe tbody tr th:only-of-type {\n        vertical-align: middle;\n    }\n\n    .dataframe tbody tr th {\n        vertical-align: top;\n    }\n\n    .dataframe thead th {\n        text-align: right;\n    }\n</style>\n<table border=\"1\" class=\"dataframe\">\n  <thead>\n    <tr style=\"text-align: right;\">\n      <th></th>\n      <th>Object</th>\n      <th>Close-Approach (CA) Date</th>\n      <th>CA Distance Nominal (LD | au)</th>\n      <th>CA Distance Minimum (LD | au)</th>\n      <th>V relative (km/s)</th>\n      <th>V infinity (km/s)</th>\n      <th>H (mag)</th>\n      <th>Estimated Diameter</th>\n      <th>Unnamed: 8</th>\n    </tr>\n  </thead>\n  <tbody>\n    <tr>\n      <th>0</th>\n      <td>(2020 UQ)</td>\n      <td>2020-Oct-20 01:17Â Â±Â &lt; 00:01</td>\n      <td>5.10 | 0.01311</td>\n      <td>5.07 | 0.01304</td>\n      <td>15.69</td>\n      <td>15.68</td>\n      <td>26.8</td>\n      <td>11 m -   26 m</td>\n      <td>bK20U00Q</td>\n    </tr>\n    <tr>\n      <th>1</th>\n      <td>(2020 UC)</td>\n      <td>2020-Oct-20 01:56Â Â±Â Â Â Â 00:02</td>\n      <td>3.71 | 0.00952</td>\n      <td>3.68 | 0.00946</td>\n      <td>7.86</td>\n      <td>7.83</td>\n      <td>27.6</td>\n      <td>8.2 m -   18 m</td>\n      <td>bK20U00C</td>\n    </tr>\n    <tr>\n      <th>2</th>\n      <td>(2017 UH5)</td>\n      <td>2020-Oct-20 03:16Â Â±Â 6_12:30</td>\n      <td>8.89 | 0.02283</td>\n      <td>8.66 | 0.02226</td>\n      <td>5.93</td>\n      <td>5.91</td>\n      <td>26.5</td>\n      <td>13 m -   30 m</td>\n      <td>bK17U05H</td>\n    </tr>\n    <tr>\n      <th>3</th>\n      <td>(2020 UR)</td>\n      <td>2020-Oct-20 04:04Â Â±Â &lt; 00:01</td>\n      <td>3.52 | 0.00906</td>\n      <td>3.50 | 0.00900</td>\n      <td>12.58</td>\n      <td>12.56</td>\n      <td>27.9</td>\n      <td>7.2 m -   16 m</td>\n      <td>bK20U00R</td>\n    </tr>\n    <tr>\n      <th>4</th>\n      <td>(2020 UB)</td>\n      <td>2020-Oct-20 05:16Â Â±Â &lt; 00:01</td>\n      <td>1.88 | 0.00484</td>\n      <td>1.87 | 0.00481</td>\n      <td>10.62</td>\n      <td>10.56</td>\n      <td>27.9</td>\n      <td>7.0 m -   16 m</td>\n      <td>bK20U00B</td>\n    </tr>\n  </tbody>\n</table>\n</div>"
     },
     "metadata": {},
     "execution_count": 14
    }
   ],
   "source": [
    "#Creates reference to future CSV file\n",
    "futurecsv = os.path.join(\"..\", \"CSV_Input\", \"NEO_2020-2200.csv\")\n",
    "\n",
    "future_neo_df = pd.read_csv(futurecsv, encoding='UTF-8')\n",
    "future_neo_df.head()\n"
   ]
  }
 ],
 "metadata": {
  "kernelspec": {
   "display_name": "Python 3",
   "language": "python",
   "name": "python3"
  },
  "language_info": {
   "codemirror_mode": {
    "name": "ipython",
    "version": 3
   },
   "file_extension": ".py",
   "mimetype": "text/x-python",
   "name": "python",
   "nbconvert_exporter": "python",
   "pygments_lexer": "ipython3",
   "version": "3.8.3-final"
  }
 },
 "nbformat": 4,
 "nbformat_minor": 4
}