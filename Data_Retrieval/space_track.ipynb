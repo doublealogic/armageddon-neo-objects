{
 "cells": [
  {
   "cell_type": "code",
   "execution_count": null,
   "metadata": {},
   "outputs": [],
   "source": [
    "import pandas as pd\n",
    "import requests\n",
    "import os\n"
   ]
  },
  {
   "cell_type": "code",
   "execution_count": null,
   "metadata": {},
   "outputs": [],
   "source": [
    "#Make base url\n",
    "base_url = \"http://api.openweathermap.org/data/2.5/weather?units=Imperial&appid=\" + api_key\n",
    "\n",
    "#Start record count and set count number at 1\n",
    "record_count = 1\n",
    "set_count = 1\n",
    "\n",
    "#create list to fill with city data\n",
    "city_data = []\n",
    "\n",
    "#Iterate over each row\n",
    "for i, city in enumerate(cities):\n",
    "    #Set time delay to avoid api requests being denied.\n",
    "    time.sleep(0.25)\n",
    "    #limit each set to 50 and add new sets starting the record count over at zero.\n",
    "    if (i % 50 == 0 and i >= 50):\n",
    "        set_count += 1\n",
    "        record_count = 0\n",
    "    \n",
    "    #print record and set count along with city name\n",
    "    print(f\"Processing Record {record_count} of set {set_count} | {city}\")\n",
    "    \n",
    "    #add to record count\n",
    "    record_count += 1\n",
    "    url = f\"{base_url}&q={city}\"\n",
    "    #perform requests for api data for all variables needed\n",
    "    try:\n",
    "        weather = requests.get(url).json()\n",
    "        city_temp = weather['main']['temp']\n",
    "        lat = weather['coord']['lat']\n",
    "        long = weather['coord']['lon']\n",
    "        country = weather['sys']['country']\n",
    "        date = weather['dt']\n",
    "        city_max_temp = weather['main']['temp_max']\n",
    "        city_humidity = weather['main']['humidity']\n",
    "        city_wind_speed = weather['wind']['speed']\n",
    "        city_clouds = weather['clouds']['all']\n",
    "        \n",
    "        #Add data requested into city_data and convert to dictionary\n",
    "        city_data.append({\"City\": city,\n",
    "                      \"Temperature\" : city_max_temp,\n",
    "                      \"Humidity\" : city_humidity,\n",
    "                      \"Longitude\" : long,\n",
    "                      \"Latitude\" : lat,\n",
    "                      \"Cloudiness\" : city_clouds,\n",
    "                      \"Country\" : country,\n",
    "                      \"Windspeed\" : city_wind_speed,\n",
    "                      \"Date\" : date\n",
    "                      })\n",
    "    #add exceptions when city is not found to keep the code running\n",
    "    except:\n",
    "        #add print statement for when exception is found\n",
    "        print('city not found.Skipping...')\n",
    "\n",
    "        pass\n",
    "\n",
    "#print when done running\n",
    "print(\"----------------------\")\n",
    "print(\"Data Retrieval Complete\")\n",
    "print(\"-----------------------\")"
   ]
  }
 ],
 "metadata": {
  "kernelspec": {
   "display_name": "Python 3",
   "language": "python",
   "name": "python3"
  },
  "language_info": {
   "codemirror_mode": {
    "name": "ipython",
    "version": 3
   },
   "file_extension": ".py",
   "mimetype": "text/x-python",
   "name": "python",
   "nbconvert_exporter": "python",
   "pygments_lexer": "ipython3",
   "version": "3.8.3"
  }
 },
 "nbformat": 4,
 "nbformat_minor": 4
}
